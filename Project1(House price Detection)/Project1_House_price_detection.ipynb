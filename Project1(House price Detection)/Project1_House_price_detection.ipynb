{
  "nbformat": 4,
  "nbformat_minor": 0,
  "metadata": {
    "colab": {
      "name": "Project1 House price detection",
      "provenance": [],
      "collapsed_sections": []
    },
    "kernelspec": {
      "name": "python3",
      "display_name": "Python 3"
    },
    "language_info": {
      "name": "python"
    }
  },
  "cells": [
    {
      "cell_type": "markdown",
      "source": [
        "# **PROJECT 1**"
      ],
      "metadata": {
        "id": "b4PMrIDu8wbD"
      }
    },
    {
      "cell_type": "markdown",
      "source": [
        "**Step 1: Understanding business problem**\n",
        "\n",
        "\n",
        "*Problem Statement: A person should develop a software where we enter area in sq.ft and it should return price*\n",
        "\n",
        "\n",
        "\n"
      ],
      "metadata": {
        "id": "J4KqCZ1S87XS"
      }
    },
    {
      "cell_type": "code",
      "execution_count": null,
      "metadata": {
        "id": "npTcH8xE8tRu"
      },
      "outputs": [],
      "source": [
        "#Python libraries for Data Analysis                       \n",
        "# Pandas for Analysis\n",
        "#Matplotlib for Visualization\n",
        "# Scikitlrean for ML"
      ]
    },
    {
      "cell_type": "markdown",
      "source": [
        "# Data Collection and Analysis"
      ],
      "metadata": {
        "id": "GKudSr2X9Voa"
      }
    },
    {
      "cell_type": "code",
      "source": [
        "import pandas as pd"
      ],
      "metadata": {
        "id": "hc_TdF6G9S-l"
      },
      "execution_count": null,
      "outputs": []
    },
    {
      "cell_type": "code",
      "source": [
        "df = pd.read_csv('/content/Metupalayam -P1 Dataset.csv')\n",
        "print(df)"
      ],
      "metadata": {
        "colab": {
          "base_uri": "https://localhost:8080/"
        },
        "id": "TzHhQCew9bj5",
        "outputId": "47314265-6de5-445f-eb0d-e4cfc7ef4cf5"
      },
      "execution_count": null,
      "outputs": [
        {
          "output_type": "stream",
          "name": "stdout",
          "text": [
            "   area    price\n",
            "0  1000   800000\n",
            "1  1200   964000\n",
            "2  1500  1200000\n",
            "3  1400  1100000\n",
            "4  2000  1600000\n"
          ]
        }
      ]
    },
    {
      "cell_type": "code",
      "source": [
        "print(type(df))"
      ],
      "metadata": {
        "colab": {
          "base_uri": "https://localhost:8080/"
        },
        "id": "cnPtT1yD93DA",
        "outputId": "9f6db03b-7ecd-4571-f376-b9c7b3bafcd6"
      },
      "execution_count": null,
      "outputs": [
        {
          "output_type": "stream",
          "name": "stdout",
          "text": [
            "<class 'pandas.core.frame.DataFrame'>\n"
          ]
        }
      ]
    },
    {
      "cell_type": "markdown",
      "source": [
        "# Data Visualization"
      ],
      "metadata": {
        "id": "p8AIvgh_-ns1"
      }
    },
    {
      "cell_type": "code",
      "source": [
        "from matplotlib import pyplot as plt "
      ],
      "metadata": {
        "id": "NQrwWaMs-mBT"
      },
      "execution_count": null,
      "outputs": []
    },
    {
      "cell_type": "code",
      "source": [
        "\n",
        "df['area']"
      ],
      "metadata": {
        "colab": {
          "base_uri": "https://localhost:8080/"
        },
        "id": "Gj4Z-QxtBrwt",
        "outputId": "9a118864-7679-482f-e5b6-c1d9d5454d00"
      },
      "execution_count": null,
      "outputs": [
        {
          "output_type": "execute_result",
          "data": {
            "text/plain": [
              "0    1000\n",
              "1    1200\n",
              "2    1500\n",
              "3    1400\n",
              "4    2000\n",
              "Name: area, dtype: int64"
            ]
          },
          "metadata": {},
          "execution_count": 6
        }
      ]
    },
    {
      "cell_type": "code",
      "source": [
        "X = df.drop('price',axis=1)\n",
        "print(X)\n",
        "y = df['price']\n",
        "print(y)\n"
      ],
      "metadata": {
        "colab": {
          "base_uri": "https://localhost:8080/"
        },
        "id": "-ulkm0EgB_dY",
        "outputId": "6b99e0ca-560a-4056-9f4a-f216f9b83b76"
      },
      "execution_count": null,
      "outputs": [
        {
          "output_type": "stream",
          "name": "stdout",
          "text": [
            "   area\n",
            "0  1000\n",
            "1  1200\n",
            "2  1500\n",
            "3  1400\n",
            "4  2000\n",
            "0     800000\n",
            "1     964000\n",
            "2    1200000\n",
            "3    1100000\n",
            "4    1600000\n",
            "Name: price, dtype: int64\n"
          ]
        }
      ]
    },
    {
      "cell_type": "code",
      "source": [
        "plt.xlabel(\"area\")\n",
        "plt.ylabel(\"price\")\n",
        "plt.scatter(X,y,color='green',marker='*',s=200)\n",
        "plt.plot(X,y,color=\"blue\")"
      ],
      "metadata": {
        "colab": {
          "base_uri": "https://localhost:8080/",
          "height": 307
        },
        "id": "ZqHsESCKDXYT",
        "outputId": "18b2ca10-8a27-442f-cd32-a1017bb00101"
      },
      "execution_count": null,
      "outputs": [
        {
          "output_type": "execute_result",
          "data": {
            "text/plain": [
              "[<matplotlib.lines.Line2D at 0x7f896367cd50>]"
            ]
          },
          "metadata": {},
          "execution_count": 8
        },
        {
          "output_type": "display_data",
          "data": {
            "text/plain": [
              "<Figure size 432x288 with 1 Axes>"
            ],
            "image/png": "[encoded data removed]"
          },
          "metadata": {
            "needs_background": "light"
          }
        }
      ]
    },
    {
      "cell_type": "markdown",
      "source": [
        "# Build ML Model"
      ],
      "metadata": {
        "id": "lRUH46Y-HkSH"
      }
    },
    {
      "cell_type": "code",
      "source": [
        "from sklearn import linear_model\n",
        "#importing library scikitlearn and linear_model algorithm"
      ],
      "metadata": {
        "id": "24G4vJA4DqHZ"
      },
      "execution_count": null,
      "outputs": []
    },
    {
      "cell_type": "code",
      "source": [
        "#Creating a reference object to that algorithm\n",
        "reg = linear_model.LinearRegression()"
      ],
      "metadata": {
        "id": "_FD0BtefHyoD"
      },
      "execution_count": null,
      "outputs": []
    },
    {
      "cell_type": "code",
      "source": [
        "#Train the Machine -ML\n",
        "# using FIT - helps to learn the machine\n",
        "reg.fit(X,y)"
      ],
      "metadata": {
        "colab": {
          "base_uri": "https://localhost:8080/"
        },
        "id": "doWO1AJZISkf",
        "outputId": "79023c46-4e6e-4ffc-a346-ff07330e1e03"
      },
      "execution_count": null,
      "outputs": [
        {
          "output_type": "execute_result",
          "data": {
            "text/plain": [
              "LinearRegression()"
            ]
          },
          "metadata": {},
          "execution_count": 11
        }
      ]
    },
    {
      "cell_type": "code",
      "source": [
        "#Predict the output or test the ML"
      ],
      "metadata": {
        "id": "u03hS5miIjWS"
      },
      "execution_count": null,
      "outputs": []
    },
    {
      "cell_type": "code",
      "source": [
        "reg.predict([[1000]])"
      ],
      "metadata": {
        "colab": {
          "base_uri": "https://localhost:8080/"
        },
        "id": "NwSH4eASItQx",
        "outputId": "4fb3c8b2-0f80-48ee-e277-8fe7ba2336fc"
      },
      "execution_count": null,
      "outputs": [
        {
          "output_type": "stream",
          "name": "stderr",
          "text": [
            "/usr/local/lib/python3.7/dist-packages/sklearn/base.py:451: UserWarning: X does not have valid feature names, but LinearRegression was fitted with feature names\n",
            "  \"X does not have valid feature names, but\"\n"
          ]
        },
        {
          "output_type": "execute_result",
          "data": {
            "text/plain": [
              "array([797154.92957746])"
            ]
          },
          "metadata": {},
          "execution_count": 13
        }
      ]
    },
    {
      "cell_type": "code",
      "source": [
        "reg.score(X,y)"
      ],
      "metadata": {
        "colab": {
          "base_uri": "https://localhost:8080/"
        },
        "id": "ZpnJO2f1I0Eh",
        "outputId": "690ec2b0-707c-44ba-9ee9-79bdd35794ba"
      },
      "execution_count": null,
      "outputs": [
        {
          "output_type": "execute_result",
          "data": {
            "text/plain": [
              "0.9989964816659621"
            ]
          },
          "metadata": {},
          "execution_count": 14
        }
      ]
    },
    {
      "cell_type": "markdown",
      "source": [
        "# How ML works Just to know how it works"
      ],
      "metadata": {
        "id": "smW9psXpQaUq"
      }
    },
    {
      "cell_type": "markdown",
      "source": [
        "**Linear Regression Formula**\n",
        "\n",
        "\n",
        "  y=mX+b\n",
        "  "
      ],
      "metadata": {
        "id": "M5ymqcTfQf27"
      }
    },
    {
      "cell_type": "code",
      "source": [
        "m =reg.coef_\n",
        "m"
      ],
      "metadata": {
        "colab": {
          "base_uri": "https://localhost:8080/"
        },
        "id": "JBFW79sLJNEH",
        "outputId": "332ccfdf-9c48-4436-cc4b-431bdf53e4e7"
      },
      "execution_count": null,
      "outputs": [
        {
          "output_type": "execute_result",
          "data": {
            "text/plain": [
              "array([799.15492958])"
            ]
          },
          "metadata": {},
          "execution_count": 15
        }
      ]
    },
    {
      "cell_type": "code",
      "source": [
        "b = reg.intercept_\n",
        "b"
      ],
      "metadata": {
        "colab": {
          "base_uri": "https://localhost:8080/"
        },
        "id": "VOmKfi2URDmD",
        "outputId": "7c70da35-1ac2-4988-e746-0e051a1c16d1"
      },
      "execution_count": null,
      "outputs": [
        {
          "output_type": "execute_result",
          "data": {
            "text/plain": [
              "-2000.0000000002328"
            ]
          },
          "metadata": {},
          "execution_count": 16
        }
      ]
    },
    {
      "cell_type": "code",
      "source": [
        "inX = 1000"
      ],
      "metadata": {
        "id": "2yzQJb0FRH_5"
      },
      "execution_count": null,
      "outputs": []
    },
    {
      "cell_type": "code",
      "source": [
        "y = m*inX+b\n",
        "y"
      ],
      "metadata": {
        "colab": {
          "base_uri": "https://localhost:8080/"
        },
        "id": "ay2Pne9lRNQx",
        "outputId": "e608b7a2-5b6f-4f1c-9ce8-c1154e3a95f7"
      },
      "execution_count": null,
      "outputs": [
        {
          "output_type": "execute_result",
          "data": {
            "text/plain": [
              "array([797154.92957746])"
            ]
          },
          "metadata": {},
          "execution_count": 18
        }
      ]
    },
    {
      "cell_type": "markdown",
      "source": [
        "#Download the Model"
      ],
      "metadata": {
        "id": "Hk1Br8kGSjsK"
      }
    },
    {
      "cell_type": "markdown",
      "source": [
        "dw reg  object \n",
        "contains coefficient and intercept value"
      ],
      "metadata": {
        "id": "ut6ciYrkSnsl"
      }
    },
    {
      "cell_type": "markdown",
      "source": [
        "**To dw variables use Pickle library**"
      ],
      "metadata": {
        "id": "YZBzjweNS6ay"
      }
    },
    {
      "cell_type": "code",
      "source": [
        "import pickle"
      ],
      "metadata": {
        "id": "ArH0YpOIRUYT"
      },
      "execution_count": null,
      "outputs": []
    },
    {
      "cell_type": "markdown",
      "source": [
        "going to dw ML model that file is python obj as Binary format.\n",
        "Syntax : with open('filename',wb)as f:pickle.dump(reg,f)"
      ],
      "metadata": {
        "id": "37wzp-0sTEX8"
      }
    },
    {
      "cell_type": "code",
      "source": [
        "with open('Metupalayammodel','wb') as f:\n",
        "  pickle.dump(reg,f)\n",
        "  #Check folder and find modelfile"
      ],
      "metadata": {
        "id": "PU1zv5CFTCZk"
      },
      "execution_count": null,
      "outputs": []
    },
    {
      "cell_type": "code",
      "source": [
        ""
      ],
      "metadata": {
        "id": "qQTnx0jeUTb5"
      },
      "execution_count": null,
      "outputs": []
    }
  ]
}